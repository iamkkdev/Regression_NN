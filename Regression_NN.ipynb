{
  "nbformat": 4,
  "nbformat_minor": 0,
  "metadata": {
    "colab": {
      "provenance": []
    },
    "kernelspec": {
      "name": "python3",
      "display_name": "Python 3"
    },
    "language_info": {
      "name": "python"
    }
  },
  "cells": [
    {
      "cell_type": "code",
      "execution_count": null,
      "metadata": {
        "id": "sZ-2k31JgHxD"
      },
      "outputs": [],
      "source": [
        "from sklearn.neural_network import MLPRegressor\n",
        "from sklearn import datasets\n",
        "from sklearn.model_selection import train_test_split\n",
        "from sklearn.preprocessing import MinMaxScaler\n",
        "from sklearn.metrics import mean_absolute_error, mean_squared_error"
      ]
    },
    {
      "cell_type": "code",
      "source": [
        "import pandas as pd\n",
        "import numpy as np\n",
        "\n",
        "data_url = \"http://lib.stat.cmu.edu/datasets/boston\"\n",
        "raw_df = pd.read_csv(data_url, sep=\"\\s+\", skiprows=22, header=None)\n",
        "data = np.hstack([raw_df.values[::2, :], raw_df.values[1::2, :2]])\n",
        "target = raw_df.values[1::2, 2]"
      ],
      "metadata": {
        "id": "s6vRFTEaiu-E"
      },
      "execution_count": null,
      "outputs": []
    },
    {
      "cell_type": "code",
      "source": [
        "data.shape"
      ],
      "metadata": {
        "colab": {
          "base_uri": "https://localhost:8080/"
        },
        "id": "Jp7teKCFi-I4",
        "outputId": "9f2f7261-322d-4974-e691-3e868060e820"
      },
      "execution_count": null,
      "outputs": [
        {
          "output_type": "execute_result",
          "data": {
            "text/plain": [
              "(506, 13)"
            ]
          },
          "metadata": {},
          "execution_count": 42
        }
      ]
    },
    {
      "cell_type": "code",
      "source": [
        "target.shape"
      ],
      "metadata": {
        "colab": {
          "base_uri": "https://localhost:8080/"
        },
        "id": "aIJyy6svkHVY",
        "outputId": "a821a566-2633-4d7f-a839-96456e00c95a"
      },
      "execution_count": null,
      "outputs": [
        {
          "output_type": "execute_result",
          "data": {
            "text/plain": [
              "(506,)"
            ]
          },
          "metadata": {},
          "execution_count": 43
        }
      ]
    },
    {
      "cell_type": "code",
      "source": [
        "X_train, X_test, y_train, y_test = train_test_split(data, target, test_size= 0.2)"
      ],
      "metadata": {
        "id": "tqonW4JrsBoK"
      },
      "execution_count": null,
      "outputs": []
    },
    {
      "cell_type": "code",
      "source": [
        "scaler = MinMaxScaler()\n",
        "X_train = scaler.fit_transform(X_train)\n",
        "X_test = scaler.transform(X_test)"
      ],
      "metadata": {
        "id": "B5kCym8IsaZO"
      },
      "execution_count": null,
      "outputs": []
    },
    {
      "cell_type": "code",
      "source": [
        "X_train"
      ],
      "metadata": {
        "colab": {
          "base_uri": "https://localhost:8080/"
        },
        "id": "zXlwUm4iuzfp",
        "outputId": "5738882b-ef53-4125-8007-69520af6a688"
      },
      "execution_count": null,
      "outputs": [
        {
          "output_type": "execute_result",
          "data": {
            "text/plain": [
              "array([[0.46670716, 0.        , 0.64296296, ..., 0.80851064, 0.82994604,\n",
              "        0.70778146],\n",
              "       [0.16221198, 0.        , 0.64296296, ..., 0.80851064, 0.45145998,\n",
              "        0.49806843],\n",
              "       [0.1717624 , 0.        , 0.64296296, ..., 0.80851064, 0.91456957,\n",
              "        0.59354305],\n",
              "       ...,\n",
              "       [0.02016368, 0.        , 0.69777778, ..., 0.22340426, 0.57312522,\n",
              "        0.28725166],\n",
              "       [0.07818185, 0.        , 0.64296296, ..., 0.80851064, 0.99377175,\n",
              "        0.42439294],\n",
              "       [0.09790313, 0.        , 0.64296296, ..., 0.80851064, 0.98759393,\n",
              "        0.42466887]])"
            ]
          },
          "metadata": {},
          "execution_count": 46
        }
      ]
    },
    {
      "cell_type": "code",
      "source": [
        "y_train = y_train.reshape(-1,1)\n",
        "y_test = y_test.reshape(-1,1)"
      ],
      "metadata": {
        "id": "YhW1rvkDwGmB"
      },
      "execution_count": null,
      "outputs": []
    },
    {
      "cell_type": "code",
      "source": [
        "scaler1 = MinMaxScaler()\n",
        "y_train = scaler1.fit_transform(y_train)\n",
        "y_test = scaler1.transform(y_test)"
      ],
      "metadata": {
        "id": "QXyj6KsEu1fF"
      },
      "execution_count": null,
      "outputs": []
    },
    {
      "cell_type": "code",
      "source": [
        "network = MLPRegressor(max_iter = 2000, verbose = True, hidden_layer_sizes = 7)\n",
        "network.fit(X_train, y_train)"
      ],
      "metadata": {
        "colab": {
          "base_uri": "https://localhost:8080/",
          "height": 1000
        },
        "id": "5rGkY6DKwcko",
        "outputId": "df114a18-d018-490f-deef-78f9cf939885"
      },
      "execution_count": null,
      "outputs": [
        {
          "output_type": "stream",
          "name": "stdout",
          "text": [
            "Iteration 1, loss = 0.15058672\n",
            "Iteration 2, loss = 0.13817149\n",
            "Iteration 3, loss = 0.12692229\n",
            "Iteration 4, loss = 0.11682758\n",
            "Iteration 5, loss = 0.10773580\n",
            "Iteration 6, loss = 0.09951379\n",
            "Iteration 7, loss = 0.09197880\n",
            "Iteration 8, loss = 0.08514851\n",
            "Iteration 9, loss = 0.07879719\n",
            "Iteration 10, loss = 0.07304683\n",
            "Iteration 11, loss = 0.06779160\n",
            "Iteration 12, loss = 0.06318452\n",
            "Iteration 13, loss = 0.05897166\n",
            "Iteration 14, loss = 0.05522134\n",
            "Iteration 15, loss = 0.05183508\n",
            "Iteration 16, loss = 0.04877486\n",
            "Iteration 17, loss = 0.04586082\n",
            "Iteration 18, loss = 0.04340930\n",
            "Iteration 19, loss = 0.04124247\n",
            "Iteration 20, loss = 0.03932482\n",
            "Iteration 21, loss = 0.03763721\n",
            "Iteration 22, loss = 0.03610747\n",
            "Iteration 23, loss = 0.03474962\n",
            "Iteration 24, loss = 0.03354349\n",
            "Iteration 25, loss = 0.03246029\n",
            "Iteration 26, loss = 0.03146873\n",
            "Iteration 27, loss = 0.03060046\n",
            "Iteration 28, loss = 0.02988227\n",
            "Iteration 29, loss = 0.02921868\n",
            "Iteration 30, loss = 0.02858876\n",
            "Iteration 31, loss = 0.02801474\n",
            "Iteration 32, loss = 0.02743662\n",
            "Iteration 33, loss = 0.02686504\n",
            "Iteration 34, loss = 0.02632985\n",
            "Iteration 35, loss = 0.02587624\n",
            "Iteration 36, loss = 0.02543157\n",
            "Iteration 37, loss = 0.02501153\n",
            "Iteration 38, loss = 0.02458902\n",
            "Iteration 39, loss = 0.02417249\n",
            "Iteration 40, loss = 0.02377125\n",
            "Iteration 41, loss = 0.02334695\n",
            "Iteration 42, loss = 0.02295184\n",
            "Iteration 43, loss = 0.02257275\n",
            "Iteration 44, loss = 0.02218892\n",
            "Iteration 45, loss = 0.02180462\n",
            "Iteration 46, loss = 0.02143500\n",
            "Iteration 47, loss = 0.02107367\n",
            "Iteration 48, loss = 0.02073149\n",
            "Iteration 49, loss = 0.02039913\n",
            "Iteration 50, loss = 0.02005652\n",
            "Iteration 51, loss = 0.01972903\n",
            "Iteration 52, loss = 0.01942069\n",
            "Iteration 53, loss = 0.01912768\n",
            "Iteration 54, loss = 0.01884152\n",
            "Iteration 55, loss = 0.01854058\n",
            "Iteration 56, loss = 0.01825905\n",
            "Iteration 57, loss = 0.01798280\n",
            "Iteration 58, loss = 0.01771834\n",
            "Iteration 59, loss = 0.01744402\n",
            "Iteration 60, loss = 0.01719001\n",
            "Iteration 61, loss = 0.01693639\n",
            "Iteration 62, loss = 0.01666717\n",
            "Iteration 63, loss = 0.01640797\n",
            "Iteration 64, loss = 0.01618789\n",
            "Iteration 65, loss = 0.01596537\n",
            "Iteration 66, loss = 0.01576168\n",
            "Iteration 67, loss = 0.01557329\n",
            "Iteration 68, loss = 0.01541544\n",
            "Iteration 69, loss = 0.01526029\n",
            "Iteration 70, loss = 0.01509765\n",
            "Iteration 71, loss = 0.01494668\n",
            "Iteration 72, loss = 0.01480734\n",
            "Iteration 73, loss = 0.01468693\n",
            "Iteration 74, loss = 0.01456919\n",
            "Iteration 75, loss = 0.01446120\n",
            "Iteration 76, loss = 0.01434273\n",
            "Iteration 77, loss = 0.01423381\n",
            "Iteration 78, loss = 0.01412883\n",
            "Iteration 79, loss = 0.01403424\n",
            "Iteration 80, loss = 0.01392530\n",
            "Iteration 81, loss = 0.01382466\n",
            "Iteration 82, loss = 0.01373468\n",
            "Iteration 83, loss = 0.01365154\n",
            "Iteration 84, loss = 0.01357599\n",
            "Iteration 85, loss = 0.01349159\n",
            "Iteration 86, loss = 0.01340569\n",
            "Iteration 87, loss = 0.01334176\n",
            "Iteration 88, loss = 0.01328857\n",
            "Iteration 89, loss = 0.01324658\n",
            "Iteration 90, loss = 0.01321269\n",
            "Iteration 91, loss = 0.01317112\n",
            "Iteration 92, loss = 0.01310832\n",
            "Training loss did not improve more than tol=0.000100 for 10 consecutive epochs. Stopping.\n"
          ]
        },
        {
          "output_type": "stream",
          "name": "stderr",
          "text": [
            "/usr/local/lib/python3.10/dist-packages/sklearn/neural_network/_multilayer_perceptron.py:1623: DataConversionWarning: A column-vector y was passed when a 1d array was expected. Please change the shape of y to (n_samples, ), for example using ravel().\n",
            "  y = column_or_1d(y, warn=True)\n"
          ]
        },
        {
          "output_type": "execute_result",
          "data": {
            "text/plain": [
              "MLPRegressor(hidden_layer_sizes=7, max_iter=2000, verbose=True)"
            ],
            "text/html": [
              "<style>#sk-container-id-8 {color: black;background-color: white;}#sk-container-id-8 pre{padding: 0;}#sk-container-id-8 div.sk-toggleable {background-color: white;}#sk-container-id-8 label.sk-toggleable__label {cursor: pointer;display: block;width: 100%;margin-bottom: 0;padding: 0.3em;box-sizing: border-box;text-align: center;}#sk-container-id-8 label.sk-toggleable__label-arrow:before {content: \"▸\";float: left;margin-right: 0.25em;color: #696969;}#sk-container-id-8 label.sk-toggleable__label-arrow:hover:before {color: black;}#sk-container-id-8 div.sk-estimator:hover label.sk-toggleable__label-arrow:before {color: black;}#sk-container-id-8 div.sk-toggleable__content {max-height: 0;max-width: 0;overflow: hidden;text-align: left;background-color: #f0f8ff;}#sk-container-id-8 div.sk-toggleable__content pre {margin: 0.2em;color: black;border-radius: 0.25em;background-color: #f0f8ff;}#sk-container-id-8 input.sk-toggleable__control:checked~div.sk-toggleable__content {max-height: 200px;max-width: 100%;overflow: auto;}#sk-container-id-8 input.sk-toggleable__control:checked~label.sk-toggleable__label-arrow:before {content: \"▾\";}#sk-container-id-8 div.sk-estimator input.sk-toggleable__control:checked~label.sk-toggleable__label {background-color: #d4ebff;}#sk-container-id-8 div.sk-label input.sk-toggleable__control:checked~label.sk-toggleable__label {background-color: #d4ebff;}#sk-container-id-8 input.sk-hidden--visually {border: 0;clip: rect(1px 1px 1px 1px);clip: rect(1px, 1px, 1px, 1px);height: 1px;margin: -1px;overflow: hidden;padding: 0;position: absolute;width: 1px;}#sk-container-id-8 div.sk-estimator {font-family: monospace;background-color: #f0f8ff;border: 1px dotted black;border-radius: 0.25em;box-sizing: border-box;margin-bottom: 0.5em;}#sk-container-id-8 div.sk-estimator:hover {background-color: #d4ebff;}#sk-container-id-8 div.sk-parallel-item::after {content: \"\";width: 100%;border-bottom: 1px solid gray;flex-grow: 1;}#sk-container-id-8 div.sk-label:hover label.sk-toggleable__label {background-color: #d4ebff;}#sk-container-id-8 div.sk-serial::before {content: \"\";position: absolute;border-left: 1px solid gray;box-sizing: border-box;top: 0;bottom: 0;left: 50%;z-index: 0;}#sk-container-id-8 div.sk-serial {display: flex;flex-direction: column;align-items: center;background-color: white;padding-right: 0.2em;padding-left: 0.2em;position: relative;}#sk-container-id-8 div.sk-item {position: relative;z-index: 1;}#sk-container-id-8 div.sk-parallel {display: flex;align-items: stretch;justify-content: center;background-color: white;position: relative;}#sk-container-id-8 div.sk-item::before, #sk-container-id-8 div.sk-parallel-item::before {content: \"\";position: absolute;border-left: 1px solid gray;box-sizing: border-box;top: 0;bottom: 0;left: 50%;z-index: -1;}#sk-container-id-8 div.sk-parallel-item {display: flex;flex-direction: column;z-index: 1;position: relative;background-color: white;}#sk-container-id-8 div.sk-parallel-item:first-child::after {align-self: flex-end;width: 50%;}#sk-container-id-8 div.sk-parallel-item:last-child::after {align-self: flex-start;width: 50%;}#sk-container-id-8 div.sk-parallel-item:only-child::after {width: 0;}#sk-container-id-8 div.sk-dashed-wrapped {border: 1px dashed gray;margin: 0 0.4em 0.5em 0.4em;box-sizing: border-box;padding-bottom: 0.4em;background-color: white;}#sk-container-id-8 div.sk-label label {font-family: monospace;font-weight: bold;display: inline-block;line-height: 1.2em;}#sk-container-id-8 div.sk-label-container {text-align: center;}#sk-container-id-8 div.sk-container {/* jupyter's `normalize.less` sets `[hidden] { display: none; }` but bootstrap.min.css set `[hidden] { display: none !important; }` so we also need the `!important` here to be able to override the default hidden behavior on the sphinx rendered scikit-learn.org. See: https://github.com/scikit-learn/scikit-learn/issues/21755 */display: inline-block !important;position: relative;}#sk-container-id-8 div.sk-text-repr-fallback {display: none;}</style><div id=\"sk-container-id-8\" class=\"sk-top-container\"><div class=\"sk-text-repr-fallback\"><pre>MLPRegressor(hidden_layer_sizes=7, max_iter=2000, verbose=True)</pre><b>In a Jupyter environment, please rerun this cell to show the HTML representation or trust the notebook. <br />On GitHub, the HTML representation is unable to render, please try loading this page with nbviewer.org.</b></div><div class=\"sk-container\" hidden><div class=\"sk-item\"><div class=\"sk-estimator sk-toggleable\"><input class=\"sk-toggleable__control sk-hidden--visually\" id=\"sk-estimator-id-8\" type=\"checkbox\" checked><label for=\"sk-estimator-id-8\" class=\"sk-toggleable__label sk-toggleable__label-arrow\">MLPRegressor</label><div class=\"sk-toggleable__content\"><pre>MLPRegressor(hidden_layer_sizes=7, max_iter=2000, verbose=True)</pre></div></div></div></div></div>"
            ]
          },
          "metadata": {},
          "execution_count": 53
        }
      ]
    },
    {
      "cell_type": "code",
      "source": [
        "network.score(X_test, y_test)"
      ],
      "metadata": {
        "colab": {
          "base_uri": "https://localhost:8080/"
        },
        "id": "FQYd058wz3Dv",
        "outputId": "ec0fcaa1-1ac3-40cb-b607-12b486c47eef"
      },
      "execution_count": null,
      "outputs": [
        {
          "output_type": "execute_result",
          "data": {
            "text/plain": [
              "0.6811902132911601"
            ]
          },
          "metadata": {},
          "execution_count": 51
        }
      ]
    },
    {
      "cell_type": "code",
      "source": [
        "network.score(X_train, y_train)"
      ],
      "metadata": {
        "colab": {
          "base_uri": "https://localhost:8080/"
        },
        "id": "XaOzM-8H38uo",
        "outputId": "e0bac5c0-c3d3-42d0-ae11-08c0ac5385b8"
      },
      "execution_count": null,
      "outputs": [
        {
          "output_type": "execute_result",
          "data": {
            "text/plain": [
              "0.7878022950857129"
            ]
          },
          "metadata": {},
          "execution_count": 52
        }
      ]
    },
    {
      "cell_type": "code",
      "source": [
        "network.coefs_"
      ],
      "metadata": {
        "colab": {
          "base_uri": "https://localhost:8080/"
        },
        "id": "kv1asosO3_Z0",
        "outputId": "dc3229e1-8fee-4884-d516-bb825f462311"
      },
      "execution_count": null,
      "outputs": [
        {
          "output_type": "execute_result",
          "data": {
            "text/plain": [
              "[array([[-1.23619808e-01,  9.25080713e-02, -2.43054981e-01,\n",
              "          2.02898166e-01,  1.92538294e-01, -5.65801472e-01,\n",
              "          4.19797387e-01],\n",
              "        [ 4.07994198e-01, -5.57716103e-01, -1.25862622e-01,\n",
              "          2.09039883e-01, -4.33838121e-01,  2.42773897e-01,\n",
              "         -2.39409546e-01],\n",
              "        [-4.17654405e-01, -3.04817623e-01, -5.15891582e-02,\n",
              "          9.85822305e-02, -6.37524503e-02, -1.41713109e-01,\n",
              "          3.66966541e-01],\n",
              "        [-2.88904796e-01, -2.40700708e-01, -3.65545686e-01,\n",
              "          4.46281832e-01,  4.79207687e-01,  3.28773939e-01,\n",
              "         -1.83142841e-01],\n",
              "        [ 4.62591603e-01, -1.15534228e-01, -2.62058361e-01,\n",
              "         -3.31855299e-02,  3.01237313e-01, -2.10509161e-01,\n",
              "          4.55790692e-01],\n",
              "        [ 5.85269417e-02, -5.70687471e-01, -1.07572741e-02,\n",
              "         -2.25232295e-01, -2.94935990e-01,  3.70201603e-01,\n",
              "          2.61495944e-01],\n",
              "        [-2.14681962e-01,  4.76503576e-01, -3.48113500e-01,\n",
              "         -2.52083743e-01,  3.58876283e-01,  5.02583943e-01,\n",
              "         -1.15645558e-01],\n",
              "        [ 1.10827544e-01,  4.09966270e-01,  2.67075185e-01,\n",
              "         -3.60586864e-01,  3.54195302e-01,  1.86855133e-01,\n",
              "         -3.29713901e-01],\n",
              "        [-3.85631202e-01, -5.25369775e-02,  2.62806856e-01,\n",
              "          4.31151710e-01,  4.66826685e-01, -9.62168241e-02,\n",
              "         -1.24850776e-01],\n",
              "        [-3.85719153e-01,  3.27362061e-01,  2.48564690e-01,\n",
              "          1.30157063e-01,  3.85420372e-01,  4.53976525e-01,\n",
              "         -7.83398006e-02],\n",
              "        [ 3.52147145e-01,  1.24280931e-01, -3.03402733e-01,\n",
              "          2.15902173e-01, -3.27414913e-01, -7.56516015e-02,\n",
              "         -2.27477375e-01],\n",
              "        [ 1.42111902e-01, -1.95233215e-01, -2.47544969e-08,\n",
              "          1.64863804e-02, -2.59815684e-01,  3.56855692e-01,\n",
              "         -2.59711490e-01],\n",
              "        [-2.42714837e-01,  1.20884362e-02, -2.68768836e-03,\n",
              "         -4.12963484e-01,  3.19134436e-01,  3.30802592e-01,\n",
              "          1.15481377e-02]]),\n",
              " array([[-0.42241775],\n",
              "        [-0.27244284],\n",
              "        [ 0.16798318],\n",
              "        [ 0.35501234],\n",
              "        [-0.44533091],\n",
              "        [ 0.04232273],\n",
              "        [-0.20626995]])]"
            ]
          },
          "metadata": {},
          "execution_count": 54
        }
      ]
    },
    {
      "cell_type": "code",
      "source": [
        "network.intercepts_"
      ],
      "metadata": {
        "colab": {
          "base_uri": "https://localhost:8080/"
        },
        "id": "JCQZ9UpS79Ph",
        "outputId": "f05b7a73-21bd-4c1a-c4b0-495d39575d3d"
      },
      "execution_count": null,
      "outputs": [
        {
          "output_type": "execute_result",
          "data": {
            "text/plain": [
              "[array([-0.56629006,  0.28149326, -0.32442412,  0.33572082, -0.39101335,\n",
              "         0.51604695, -0.52247054]),\n",
              " array([0.32410267])]"
            ]
          },
          "metadata": {},
          "execution_count": 55
        }
      ]
    },
    {
      "cell_type": "code",
      "source": [
        "network.n_layers_"
      ],
      "metadata": {
        "colab": {
          "base_uri": "https://localhost:8080/"
        },
        "id": "dH3gsZfU7__L",
        "outputId": "a7de6fd0-a1a7-47f2-82a1-c40b161a7205"
      },
      "execution_count": null,
      "outputs": [
        {
          "output_type": "execute_result",
          "data": {
            "text/plain": [
              "3"
            ]
          },
          "metadata": {},
          "execution_count": 56
        }
      ]
    },
    {
      "cell_type": "code",
      "source": [
        "network.out_activation_"
      ],
      "metadata": {
        "colab": {
          "base_uri": "https://localhost:8080/",
          "height": 35
        },
        "id": "rExRlYEA8CBT",
        "outputId": "6c974261-3b99-4680-83f9-ba41ee9a8cea"
      },
      "execution_count": null,
      "outputs": [
        {
          "output_type": "execute_result",
          "data": {
            "text/plain": [
              "'identity'"
            ],
            "application/vnd.google.colaboratory.intrinsic+json": {
              "type": "string"
            }
          },
          "metadata": {},
          "execution_count": 57
        }
      ]
    },
    {
      "cell_type": "markdown",
      "source": [
        "## **NN Evaluation**\n"
      ],
      "metadata": {
        "id": "xZBAyIlWASj1"
      }
    },
    {
      "cell_type": "code",
      "source": [
        "y_pred = network.predict(X_test)"
      ],
      "metadata": {
        "id": "tnslKXNaAikX"
      },
      "execution_count": null,
      "outputs": []
    },
    {
      "cell_type": "code",
      "source": [
        "mean_absolute_error(y_test, y_pred)"
      ],
      "metadata": {
        "colab": {
          "base_uri": "https://localhost:8080/"
        },
        "id": "Ccb7p-EdBNkn",
        "outputId": "6cf478fb-fea9-481b-8857-1e0fc6fc8726"
      },
      "execution_count": null,
      "outputs": [
        {
          "output_type": "execute_result",
          "data": {
            "text/plain": [
              "0.11069642307592759"
            ]
          },
          "metadata": {},
          "execution_count": 62
        }
      ]
    },
    {
      "cell_type": "code",
      "source": [
        "mean_squared_error(y_test, y_pred)"
      ],
      "metadata": {
        "colab": {
          "base_uri": "https://localhost:8080/"
        },
        "id": "bzhIsz3dCsu3",
        "outputId": "96026de6-c864-4861-f705-726057882049"
      },
      "execution_count": null,
      "outputs": [
        {
          "output_type": "execute_result",
          "data": {
            "text/plain": [
              "0.0273447176311846"
            ]
          },
          "metadata": {},
          "execution_count": 63
        }
      ]
    },
    {
      "cell_type": "code",
      "source": [
        "np.sqrt(mean_squared_error(y_test, y_pred))"
      ],
      "metadata": {
        "colab": {
          "base_uri": "https://localhost:8080/"
        },
        "id": "WqUiIpvJC0hR",
        "outputId": "8dfb9825-a15c-4e44-9ef3-25efa0ee1677"
      },
      "execution_count": null,
      "outputs": [
        {
          "output_type": "execute_result",
          "data": {
            "text/plain": [
              "0.16536238275733872"
            ]
          },
          "metadata": {},
          "execution_count": 64
        }
      ]
    },
    {
      "cell_type": "code",
      "source": [],
      "metadata": {
        "id": "fzFdBYkKDIab"
      },
      "execution_count": null,
      "outputs": []
    }
  ]
}